{
 "cells": [
  {
   "cell_type": "code",
   "execution_count": 1,
   "metadata": {},
   "outputs": [],
   "source": [
    "import pandas as pd\n",
    "import re, os\n",
    "import matplotlib.pyplot as plt\n",
    "import numpy as np\n",
    "import geopandas as gpd\n",
    "\n",
    "df = pd.read_csv(\"~/Desktop/CompAnalysis/FinalProject/oneHotDfAllCols.csv\")\n"
   ]
  },
  {
   "cell_type": "code",
   "execution_count": 2,
   "metadata": {},
   "outputs": [],
   "source": [
    "import geopandas as gpd\n",
    "import pandas as pd\n",
    "import matplotlib.pyplot as plt\n",
    "\n",
    "us_states = gpd.read_file('~/Desktop/CompAnalysis/FinalProject/cb_2018_us_state_20m/cb_2018_us_state_20m.shp')\n",
    "\n",
    "#us_states = gpd.read_file('~/Desktop/CompAnalysis/FinalProject/cb_2018_us_state_5m/cb_2018_us_state_5m.shp')\n",
    "\n",
    "us_statesSortedGEOID = us_states.sort_values('GEOID')"
   ]
  },
  {
   "cell_type": "code",
   "execution_count": 3,
   "metadata": {},
   "outputs": [],
   "source": [
    "\n",
    "#get ride of PR\n",
    "us_statesSortedGEOID = us_statesSortedGEOID.drop(7,axis=0)\n",
    "\n",
    "#get rid oh AK\n",
    "us_statesSortedGEOID = us_statesSortedGEOID.drop(25,axis=0)\n",
    "\n"
   ]
  },
  {
   "cell_type": "code",
   "execution_count": 7,
   "metadata": {},
   "outputs": [],
   "source": []
  },
  {
   "cell_type": "code",
   "execution_count": 4,
   "metadata": {},
   "outputs": [],
   "source": [
    "#make data for just drugs \n",
    "#missing data for some states and need to get rid of DC\n",
    "#missing for DE(10), ID(16), Maryland(24), NJ(34), NM (35), OR (41), VT(50)\n",
    "stateRape = {}\n",
    "\n",
    "for index, row in df.iterrows():\n",
    "     if row['rape/SA'] == 1:\n",
    "          if row['STATE'] in stateRape:\n",
    "               stateRape[row['STATE']].append(row['SENTLGTH'])\n",
    "               #print()\n",
    "          else:\n",
    "               stateRape[row['STATE']] = [row['SENTLGTH']]  \n",
    "\n",
    "\n",
    "print(stateRape)\n",
    "\n",
    "\n",
    "\n",
    "\n"
   ]
  },
  {
   "cell_type": "code",
   "execution_count": 11,
   "metadata": {},
   "outputs": [
    {
     "name": "stdout",
     "output_type": "stream",
     "text": [
      "[4, 0, 3, 5, 2, 3, 4, 5, 4, 2, 3, 4, 2, 4, 2, 3, 2, 5, 4, 0, 4, 2, 3, 2, 3, 3, 3, 3, 2, 3, 3, 3, 3, 3, 2, 2, 3, 3, 3, 3, 2, 2, 2, 4, 4, 4, 2, 3, 5, 4, 5, 0, 4, 3, 2, 3, 2, 2, 2, 2, 3, 2, 2, 2, 3, 2, 3, 2, 3, 3, 2, 3, 3, 2, 2, 2, 2, 1, 3, 3, 3, 2, 1, 2, 4, 4, 3, 3, 3, 2, 0, 2, 0, 2, 0, 3, 0, 0, 1, 1, 2, 2, 1, 2, 2, 4, 5, 5, 5, 5, 4, 0, 3, 2, 4, 2, 2, 4, 2, 2, 1, 2, 0, 1, 1, 2, 2, 0, 0, 4, 2, 0, 0, 0, 0, 1, 2, 0, 0, 1, 0, 2, 0, 0, 0, 0, 0, 0, 0, 0, 0, 2, 0, 4, 3, 4, 5, 2, 0, 2, 5, 2, 4, 5, 5, 4, 5, 3, 0, 4, 4, 4, 4, 4, 4, 2, 4, 4, 4, 4, 4, 4, 4, 4, 4, 4, 4, 4, 4, 4, 2, 4, 4, 4, 4, 4, 4, 3, 3, 2, 4, 2, 2, 3, 3, 3, 4, 3, 4, 3, 4, 3, 3, 2, 2, 2, 2, 3, 5, 2, 3, 2, 3, 3, 2, 3, 3, 2, 4, 2, 2, 3, 3, 3, 2, 3, 3, 3, 3, 2, 2, 4, 2, 3, 5, 2, 1, 3, 3, 3, 2, 3, 3, 1, 3, 2, 2, 3, 2, 1, 3, 2, 2, 3, 2, 2, 2, 2, 2, 2, 2, 0, 0, 1, 0, 0, 2, 0, 0, 2, 2, 2, 0, 2, 2, 2, 2, 2, 2, 0, 2, 0, 0, 0, 2, 0, 2, 2, 2, 1, 1, 2, 0, 0, 2, 2, 2, 1, 2, 2, 0, 0, 0, 2, 3, 4, 5, 4, 4, 4, 4, 5, 4, 2, 4, 5, 4, 4, 4, 4, 4, 1, 5, 4, 6, 0, 4, 4, 4, 4, 4, 0, 4, 4, 5, 4, 4, 4, 4, 4, 4, 4, 4, 4, 4, 4, 2, 4, 4, 4, 4, 3, 4, 4, 4, 4, 4, 4, 4, 4, 4, 4, 4, 4, 4, 0, 3, 4, 4, 3, 2, 4, 4, 4, 1, 3, 4, 3, 2, 2, 4, 3, 4, 3, 3, 2, 2, 3, 2, 1, 2, 3, 3, 3, 3, 3, 2, 6, 3, 3, 3, 3, 3, 2, 2, 2, 2, 2, 2, 2, 2, 2, 3, 2, 2, 2, 3, 3, 2, 3, 3, 2, 2, 2, 3, 3, 2, 3, 2, 3, 2, 2, 2, 2, 3, 2, 4, 2, 3, 3, 3, 2, 2, 3, 2, 2, 1, 2, 2, 1, 0, 2, 0, 2, 3, 2, 0, 1, 1, 0, 2, 0, 0, 0, 3, 1, 0, 2, 2, 2, 2, 2, 1, 0, 0, 2, 0, 1, 2, 2, 2, 2, 0, 0, 0, 0, 0, 0, 0, 4, 0, 0, 0, 5, 0, 0, 2, 2, 0, 1, 2, 0, 0, 0, 4, 0, 0, 0, 0, 2, 4, 4, 6, 2, 2, 4, 6, 4, 2, 2, 4, 5, 5, 0, 2, 4, 5, 5, 4, 4, 2, 2, 3, 6, 4, 4, 4, 6, 0, 4, 4, 4, 4, 4, 2, 4, 4, 4, 4, 4, 4, 4, 4, 4, 4, 4, 4, 4, 4, 4, 4, 4, 4, 5, 4, 0, 4, 4, 4, 4, 4, 4, 4, 4, 4, 4, 4, 4, 4, 2, 3, 2, 3, 3, 4, 3, 3, 0, 3, 3, 4, 2, 2, 2, 2, 2, 3, 2, 2, 2, 2, 2, 2, 3, 2, 3, 2, 2, 2, 2, 3, 3, 3, 2, 3, 3, 2, 3, 2, 3, 3, 3, 2, 2, 2, 2, 2, 3, 2, 0, 2, 2, 2, 3, 2, 0, 2, 2, 0, 0, 3, 0, 3, 0, 3, 0, 0, 1, 0, 2, 1, 1, 2, 2, 2, 1, 0, 2, 2, 2, 0, 2, 1, 2, 0, 2, 2, 0, 0, 0, 0, 0, 0, 0, 0, 0, 0, 4, 2, 0, 0, 0, 2, 0, 1, 0, 0, 2, 0, 0, 0, 0, 2, 0, 2, 0, 0, 5, 2, 0, 2, 5, 6, 4, 5, 4, 4, 5, 4, 5, 4, 2, 5, 3, 4, 6, 4, 5, 4, 1, 4, 4, 4, 4, 4, 4, 4, 2, 4, 4, 4, 4, 4, 4, 4, 4, 4, 4, 4, 4, 4, 4, 4, 4, 4, 4, 1, 4, 4, 4, 2, 2, 2, 4, 4, 4, 4, 4, 4, 2, 4, 6, 5, 0, 3, 4, 4, 4, 4, 4, 4, 3, 4, 4, 4, 3, 4, 3, 4, 4, 3, 4, 2, 4, 2, 3, 0, 4, 4, 4, 4, 3, 2, 2, 3, 3, 2, 2, 3, 2, 3, 2, 2, 4, 2, 2, 4, 2, 3, 4, 2, 2, 0, 2, 3, 3, 2, 3, 3, 4, 3, 2, 3, 2, 3, 3, 3, 2, 3, 2, 5, 3, 2, 4, 2, 3, 1, 2, 3, 3, 2, 2, 2, 2, 2, 1, 2, 3, 2, 2, 2, 2, 6, 2, 1, 2, 2, 1, 3, 2, 2, 2, 3, 2, 2, 0, 0, 2, 0, 2, 2, 2, 1, 0, 2, 2, 2, 2, 1, 2, 2, 3, 2, 3, 2, 0, 0, 2, 0, 3, 0, 0, 1, 0, 2, 2, 2, 2, 2, 0, 1, 2, 3, 0, 2, 1, 0, 0, 0, 2, 0, 4, 0, 0, 0, 0, 0, 0, 2, 0, 0, 4, 0, 0, 0, 0, 0, 0, 0, 0, 4, 4, 5, 6, 0, 4, 4, 4, 5, 0, 4, 4, 5, 5, 6, 6, 2, 4, 4, 4, 4, 4, 4, 4, 4, 4, 4, 4, 4, 4, 4, 4, 4, 4, 2, 4, 4, 2, 5, 4, 4, 4, 4, 5, 4, 4, 5, 4, 4, 4, 2, 4, 4, 4, 4, 4, 4, 2, 4, 4, 4, 4, 4, 3, 4, 2, 4, 4, 2, 2, 3, 4, 4, 4, 3, 2, 2, 4, 4, 4, 0, 4, 4, 4, 4, 4, 0, 3, 4, 3, 2, 3, 2, 2, 3, 2, 2, 2, 2, 4, 2, 4, 4, 3, 4, 4, 2, 3, 3, 2, 2, 2, 3, 3, 2, 2, 2, 3, 3, 3, 2, 2, 2, 3, 2, 2, 2, 3, 2, 2, 3, 2, 3, 3, 2, 0, 4, 2, 3, 0, 2, 2, 3, 2, 2, 2, 2, 3, 3, 2, 1, 2, 3, 0, 1, 3, 0, 3, 2, 2, 2, 1, 2, 3, 0, 2, 1, 0, 0, 0, 2, 1, 2, 2, 2, 0, 2, 1, 2, 2, 2, 0, 1, 2, 2, 2, 1, 0, 2, 0, 0, 2, 3, 0, 1, 0, 0, 2, 0, 0, 2, 2, 2, 4, 1, 2, 2, 0, 1, 0, 0, 0, 0, 2, 3, 0, 0, 2, 0, 0, 3, 0, 0, 3, 0, 4, 5, 4, 5, 3, 4, 1, 4, 5, 4, 0, 4, 4, 4, 4, 4, 4, 4, 4, 5, 5, 5, 6, 4, 5, 4, 0, 4, 0, 3, 4, 3, 4, 4, 4, 4, 4, 4, 4, 5, 4, 4, 4, 4, 4, 4, 5, 4, 4, 4, 4, 4, 2, 4, 5, 4, 4, 4, 4, 4, 2, 4, 4, 4, 4, 3, 4, 2, 4, 4, 4, 4, 4, 4, 2, 3, 4, 4, 3, 2, 4, 4, 0, 3, 2, 2, 3, 3, 2, 3, 2, 3, 2, 4, 2, 2, 2, 3, 4, 3, 3, 3, 4, 3, 3, 3, 3, 3, 3, 2, 2, 2, 2, 2, 3, 2, 3, 2, 2, 2, 2, 3, 3, 2, 2, 2, 2, 3, 3, 2, 2, 2, 2, 4, 2, 2, 2, 3, 2, 2, 1, 1, 2, 0, 2, 2, 1, 0, 2, 2, 2, 0, 0, 0, 2, 2, 1, 0, 0, 2, 0, 2, 0, 0, 2, 2, 2, 2, 0, 0, 1, 0, 6, 2, 0, 2, 0, 2, 1, 2, 1, 0, 0, 0, 0, 2, 0, 0, 0, 0, 0, 4, 4, 4, 6, 6, 4, 3, 4, 4, 1, 4, 0, 2, 5, 5, 4, 4, 0, 4, 2, 4, 4, 4, 2, 2, 6, 2, 4, 4, 6, 4, 5, 4, 5, 3, 4, 5, 2, 4, 4, 6, 5, 4, 4, 4, 4, 4, 5, 0, 4, 5, 4, 4, 5, 4, 4, 4, 4, 4, 4, 5, 4, 4, 4, 2, 4, 4, 5, 3, 4, 4, 4, 4, 4, 4, 4, 4, 4, 0, 3, 4, 4, 3, 1, 4, 4, 3, 4, 4, 4, 3, 4, 4, 3, 4, 4, 4, 4, 2, 4, 3, 2, 3, 3, 4, 4, 3, 4, 4, 4, 3, 2, 2, 3, 2, 2, 4, 3, 3, 2, 3, 5, 2, 3, 2, 3, 3, 2, 2, 3, 2, 3, 4, 0, 3, 3, 2, 3, 3, 2, 2, 3, 3, 3, 3, 2, 3, 3, 2, 2, 2, 2, 2, 1, 3, 2, 2, 2, 2, 1, 3, 2, 2, 2, 2, 3, 1, 1, 2, 0, 1, 1, 2, 1, 0, 2, 4, 0, 0, 2, 1, 0, 2, 0, 1, 2, 2, 3, 2, 1, 2, 0, 0, 0, 0, 0, 0, 2, 2, 0, 0, 0, 2, 0, 0, 0, 0, 1, 0, 0, 0, 3, 0, 0, 0, 0, 1, 0, 0, 0, 1, 2, 4, 4, 0, 5, 4, 4, 4, 2, 2, 4, 4, 6, 5, 5, 6, 4, 4, 6, 5, 4, 4, 4, 4, 5, 4, 6, 2, 4, 3, 4, 5, 4, 4, 2, 4, 4, 0, 4, 4, 2, 4, 4, 4, 4, 4, 2, 5, 4, 4, 4, 4, 4, 4, 4, 4, 4, 4, 4, 4, 4, 4, 4, 2, 4, 1, 3, 4, 4, 4, 3, 2, 3, 4, 0, 4, 4, 4, 4, 4, 3, 2, 4, 3, 3, 4, 4, 3, 4, 2, 0, 3, 2, 3, 3, 3, 3, 2, 4, 2, 2, 3, 3, 2, 4, 2, 2, 3, 3, 2, 3, 2, 2, 0, 4, 2, 2, 2, 2, 2, 0, 2, 3, 3, 2, 2, 3, 3, 4, 2, 3, 2, 3, 3, 3, 3, 2, 2, 3, 2, 1, 3, 1, 2, 2, 3, 3, 3, 2, 2, 0, 3, 1, 2, 2, 2, 0, 2, 2, 3, 3, 3, 1, 2, 3, 2, 1, 2, 2, 0, 3, 1, 2, 2, 0, 2, 2, 0, 2, 2, 1, 0, 2, 2, 1, 0, 2, 2, 0, 2, 2, 2, 0, 3, 0, 0, 0, 0, 2, 0, 0, 2, 0, 2, 0, 0, 0, 2, 0, 2, 2, 0, 0, 1, 0, 5, 2, 0, 0, 0, 0, 0, 0, 0, 2, 0, 0, 0, 2, 0, 0, 0, 0, 0, 0, 0, 1, 0, 0, 3, 2, 4, 4, 4, 4, 4, 3, 3, 0, 3, 4, 2, 2, 0, 2, 4, 4, 0, 4, 4, 4, 3, 0, 3, 5, 0, 2, 4, 3, 4, 5, 4, 3, 2, 2, 4, 3, 2, 4, 5, 4, 3, 4, 3, 3, 2, 2, 2, 0, 2, 0, 1, 0, 4, 3, 3, 3, 2, 5, 4, 2, 4, 4, 4, 4, 3, 2, 1, 0, 0, 1, 3, 4, 3, 4, 4, 0, 2, 4, 3, 3, 5, 3, 4, 4, 4, 2, 5, 4, 5, 4, 4, 3, 3, 2, 4, 2, 2, 5, 4, 3, 4, 2, 4, 5, 5, 4, 4, 2, 4, 4, 4, 2, 2, 4, 4, 3, 2, 2, 2, 2, 2, 3, 3, 2, 2, 3, 2, 2, 1, 2, 2, 0, 0, 2, 2, 2, 0, 2, 2, 0, 0, 0, 0, 0, 4, 2, 5, 4, 4, 4, 2, 1, 4, 3, 3, 3, 4, 4, 3, 3, 1, 2, 2, 0, 4, 3, 2, 5, 0, 4, 0, 5, 4, 4, 4, 3, 3, 2, 2, 2, 2, 0, 0, 4, 4, 4, 4, 4, 4, 4, 2, 2, 2, 4, 0, 0, 0, 1, 0, 0, 0, 0, 0, 4, 4, 4, 3, 2, 3, 2, 4, 3, 3, 2, 4, 2, 3, 2, 5, 4, 2, 4, 4, 2, 2, 4, 4, 3, 0, 0, 0, 2, 0, 0, 0, 0, 2, 0, 4, 4, 0, 0, 2, 0, 0, 0, 2, 0, 5, 4, 4, 3, 0, 0, 0, 0, 2, 0, 4, 4, 4, 4, 4, 2, 3, 5, 5, 5, 5, 4, 4, 4, 3, 2, 2, 4, 4, 0, 3, 0, 2, 0]\n",
      "<class 'list'>\n",
      "2.5104761904761905\n",
      "2\n"
     ]
    }
   ],
   "source": [
    "value = stateRape[1]\n",
    "print(value)\n",
    "print(type(value))\n",
    "print(sum(value)/len(value))\n",
    "most_common_number = max(set(value), key = value.count)\n",
    "print(most_common_number)"
   ]
  },
  {
   "cell_type": "markdown",
   "metadata": {},
   "source": []
  },
  {
   "cell_type": "code",
   "execution_count": null,
   "metadata": {},
   "outputs": [],
   "source": []
  },
  {
   "cell_type": "markdown",
   "metadata": {},
   "source": []
  },
  {
   "cell_type": "code",
   "execution_count": 9,
   "metadata": {},
   "outputs": [
    {
     "name": "stdout",
     "output_type": "stream",
     "text": [
      "   GEOID  sentenceLen\n",
      "7      1            3\n",
      "38     2            3\n",
      "40     4            3\n",
      "8      5            3\n",
      "49     6            3\n",
      "9      8            3\n",
      "46     9            3\n",
      "0     10            0\n",
      "35    11            2\n",
      "31    12            3\n",
      "10    13            3\n",
      "37    15            3\n",
      "1     16            0\n",
      "29    17            3\n",
      "43    18            3\n",
      "11    19            4\n",
      "47    20            3\n",
      "36    21            3\n",
      "50    22            3\n",
      "32    23            2\n",
      "2     24            0\n",
      "30    25            3\n",
      "12    26            4\n",
      "13    27            3\n",
      "14    28            3\n",
      "15    29            3\n",
      "48    30            4\n",
      "16    31            3\n",
      "17    32            4\n",
      "18    33            3\n",
      "3     34            0\n",
      "4     35            0\n",
      "34    36            3\n",
      "19    37            2\n",
      "20    38            3\n",
      "21    39            5\n",
      "41    40            4\n",
      "5     41            0\n",
      "42    42            3\n",
      "44    44            2\n",
      "22    45            3\n",
      "23    46            3\n",
      "39    47            3\n",
      "33    48            3\n",
      "24    49            4\n",
      "6     50            0\n",
      "25    51            3\n",
      "26    53            3\n",
      "27    54            4\n",
      "28    55            3\n",
      "45    56            3\n",
      "[3, 3, 3, 3, 3, 3, 3, 0, 2, 3, 3, 3, 0, 3, 3, 4, 3, 3, 3, 2, 0, 3, 4, 3, 3, 3, 4, 3, 4, 3, 0, 0, 3, 2, 3, 5, 4, 0, 3, 2, 3, 3, 3, 3, 4, 0, 3, 3, 4, 3, 3]\n",
      "51\n"
     ]
    }
   ],
   "source": [
    "stateDrugsFinal = {10: 0 , 16: 0, 24: 0, 34:0, 35: 0, 41: 0, 50:0}\n",
    "for state in stateRape.keys():\n",
    "   valueList = stateRape[state]\n",
    "   average =  sum(valueList)/len(valueList)\n",
    "   roundedAverage = np.round(average, decimals=0)\n",
    "   stateDrugsFinal[state] = roundedAverage\n",
    "\n",
    "dfStateRape = pd.DataFrame(stateDrugsFinal.items(), columns=['GEOID', 'sentenceLen'])\n",
    "\n",
    "dfStateRape['GEOID'] = dfStateRape['GEOID'].astype('object')\n",
    "dfStateRape['sentenceLen'] = dfStateRape['sentenceLen'].astype(int)\n",
    "\n",
    "dfStateRapeSorted = dfStateRape.sort_values('GEOID')\n",
    "\n",
    "#print(dfStateDrugsSorted)\n",
    "\n",
    "sentenceLenList = []\n",
    "\n",
    "for index, row in dfStateRapeSorted.iterrows():\n",
    "   sentenceLenList.append(row['sentenceLen'])\n",
    "\n",
    "print(dfStateRapeSorted)\n",
    "print(sentenceLenList)\n",
    "print(len(sentenceLenList))\n"
   ]
  },
  {
   "cell_type": "code",
   "execution_count": 11,
   "metadata": {},
   "outputs": [
    {
     "data": {
      "image/png": "[encoded data removed]",
      "text/plain": [
       "<Figure size 1000x1000 with 2 Axes>"
      ]
     },
     "metadata": {},
     "output_type": "display_data"
    }
   ],
   "source": [
    "us_statesSortedGEOID['sentenceLen'] = sentenceLenList [:1] + sentenceLenList[2:]\n",
    "\n",
    "from matplotlib.colors import ListedColormap\n",
    "\n",
    "\n",
    "# Define custom colormap\n",
    "cmap = ListedColormap(['#0b6c96', '#87d5d2', '#e7d49b', '#ee9b00', '#ca6702', '#bb3e03', '#ae2012', '#9b2226', '#91080c', '#5b1427', '#431a51', '#1d085b'])\n",
    "\n",
    "#make plot\n",
    "fig, ax = plt.subplots(figsize=(10, 10))\n",
    "us_statesSortedGEOID.plot(ax=ax, column='sentenceLen', cmap=cmap, edgecolor='black') \n",
    "ax.set_title('Average sentance length for Rape in each State')\n",
    "sm = plt.cm.ScalarMappable(cmap=cmap)\n",
    "sm._A = []\n",
    "cbar = fig.colorbar(sm, ax=ax, orientation='horizontal', shrink=0.8,)\n",
    "ax.set_axis_off()\n",
    "\n",
    "plt.show()"
   ]
  }
 ],
 "metadata": {
  "kernelspec": {
   "display_name": "Python 3 (ipykernel)",
   "language": "python",
   "name": "python3"
  },
  "language_info": {
   "codemirror_mode": {
    "name": "ipython",
    "version": 3
   },
   "file_extension": ".py",
   "mimetype": "text/x-python",
   "name": "python",
   "nbconvert_exporter": "python",
   "pygments_lexer": "ipython3",
   "version": "3.9.13"
  }
 },
 "nbformat": 4,
 "nbformat_minor": 2
}
