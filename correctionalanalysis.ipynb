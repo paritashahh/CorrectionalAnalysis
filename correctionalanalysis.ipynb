{
 "cells": [
  {
   "cell_type": "code",
   "execution_count": 42,
   "metadata": {},
   "outputs": [
    {
     "name": "stderr",
     "output_type": "stream",
     "text": [
      "/var/folders/v1/ljzyxbgj1xx_syzq56dgnsk00000gn/T/ipykernel_3300/466003438.py:6: DtypeWarning: Columns (10) have mixed types. Specify dtype option on import or set low_memory=False.\n",
      "  df = pd.read_csv(\"/Users/paritashah/Desktop/College/Year3/Term2/BigData/finalproject/CorrectionalAnalysis/38492-0003-Data.tsv\", sep='\\t')\n"
     ]
    }
   ],
   "source": [
    "import pandas as pd\n",
    "import re, os\n",
    "import matplotlib.pyplot as plt\n",
    "import numpy as np\n",
    "\n",
    "df = pd.read_csv(\"/Users/paritashah/Desktop/College/Year3/Term2/BigData/finalproject/CorrectionalAnalysis/38492-0003-Data.tsv\", sep='\\t')"
   ]
  },
  {
   "cell_type": "code",
   "execution_count": 43,
   "metadata": {},
   "outputs": [
    {
     "name": "stdout",
     "output_type": "stream",
     "text": [
      "          SEX  RPTYEAR  STATE  EDUCATION  ADMTYPE  OFFGENERAL  ADMITYR  \\\n",
      "0           1     1991      1          3        1           1     1983   \n",
      "1           1     1991      1          2        1           1     1987   \n",
      "3           1     1991      1          2        1           2     1989   \n",
      "5           2     1991      1          1        1           3     1991   \n",
      "6           1     1991      1          1        1           2     1991   \n",
      "...       ...      ...    ...        ...      ...         ...      ...   \n",
      "17075799    1     2020     56          3        1           1     2003   \n",
      "17075800    1     2020     56          2        1           3     2018   \n",
      "17075801    1     2020     56          1        1           1     2018   \n",
      "17075802    1     2020     56          1        1           2     2018   \n",
      "17075803    1     2020     56          1        1           1     2017   \n",
      "\n",
      "         SENTLGTH  OFFDETAIL  RACE  AGEADMIT  RELYR  RELTYPE  AGERLSE  \\\n",
      "0               5          1     1         2   1991        1        3   \n",
      "1               4          4     1         2   1991        2        2   \n",
      "3               4          7     2         3   1991        2        3   \n",
      "5               0         12     2         2   1991        1        2   \n",
      "6               2         11     2         1   1991        1        1   \n",
      "...           ...        ...   ...       ...    ...      ...      ...   \n",
      "17075799        5          3     1         2   2020        2        4   \n",
      "17075800        3         12     1         5   2020        2        5   \n",
      "17075801        2          3     3         2   2020        2        2   \n",
      "17075802        3          7     1         2   2020        2        2   \n",
      "17075803        3          5     1         2   2020        2        2   \n",
      "\n",
      "          TIMESRVD  \n",
      "0                8  \n",
      "1                4  \n",
      "3                2  \n",
      "5                0  \n",
      "6                0  \n",
      "...            ...  \n",
      "17075799        17  \n",
      "17075800         2  \n",
      "17075801         2  \n",
      "17075802         2  \n",
      "17075803         3  \n",
      "\n",
      "[7191471 rows x 15 columns]\n"
     ]
    }
   ],
   "source": [
    "# remove unknown education levels\n",
    "df = df[df.EDUCATION != 9]\n",
    "# remove unkown and other prison admission types\n",
    "df = df[df.ADMTYPE != 9]\n",
    "df = df[df.ADMTYPE != 3]\n",
    "# remove unkonwn general offense categories\n",
    "df = df[df.OFFGENERAL != 9]\n",
    "# remove year of mandatory prison release column\n",
    "df = df.drop(columns=['MAND_PRISREL_YEAR'])\n",
    "# remove year of projected prison release column\n",
    "df = df.drop(columns=['PROJ_PRISREL_YEAR'])\n",
    "# remove year of parole eligibility column\n",
    "df = df.drop(columns=['PARELIG_YEAR'])\n",
    "# remove unknown admission year datapoints\n",
    "df = df[df.ADMITYR != 9999]\n",
    "# remove unknown maximum sentence length datapoints\n",
    "df = df[df.SENTLGTH != 9]\n",
    "# remove unknown offense detail datapoints\n",
    "df = df[df.OFFDETAIL != 99]\n",
    "# remove unknown race datapoints\n",
    "df = df[df.RACE != 9]\n",
    "# remove unknown age at admission datapoints \n",
    "df = df[df.AGEADMIT != 9]\n",
    "# remove unknown release year datapoints\n",
    "df = df[df.RELYR != 9999]\n",
    "# remove unknown and other release type datapoints\n",
    "df = df[df.RELTYPE != 9]\n",
    "df = df[df.RELTYPE != 3]\n",
    "# remove unknown age at release datapoints\n",
    "df = df[df.AGERLSE != 0]\n",
    "# remove TIMESRVD_REL \n",
    "df = df.drop(columns=['TIMESRVD_REL'])\n",
    "# df = df[df.TIMESRVD_REL != 9]\n",
    "# create a new column of TIMESRVD where value is the RELYR - ADMITYR\n",
    "df['TIMESRVD'] = df['RELYR'] - df['ADMITYR']\n",
    "\n",
    "print(df)\n"
   ]
  },
  {
   "cell_type": "code",
   "execution_count": null,
   "metadata": {},
   "outputs": [],
   "source": []
  }
 ],
 "metadata": {
  "kernelspec": {
   "display_name": "Python 3 (ipykernel)",
   "language": "python",
   "name": "python3"
  },
  "language_info": {
   "codemirror_mode": {
    "name": "ipython",
    "version": 3
   },
   "file_extension": ".py",
   "mimetype": "text/x-python",
   "name": "python",
   "nbconvert_exporter": "python",
   "pygments_lexer": "ipython3",
   "version": "3.10.7"
  }
 },
 "nbformat": 4,
 "nbformat_minor": 2
}
